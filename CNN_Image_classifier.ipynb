{
  "nbformat": 4,
  "nbformat_minor": 0,
  "metadata": {
    "colab": {
      "name": "CNN Image classifier.ipynb",
      "provenance": [],
      "collapsed_sections": [],
      "authorship_tag": "ABX9TyN3KEBdL68mIRyg8AR2bK4q",
      "include_colab_link": true
    },
    "kernelspec": {
      "display_name": "Python 3",
      "name": "python3"
    },
    "language_info": {
      "name": "python"
    }
  },
  "cells": [
    {
      "cell_type": "markdown",
      "metadata": {
        "id": "view-in-github",
        "colab_type": "text"
      },
      "source": [
        "<a href=\"https://colab.research.google.com/github/DevindiSiwurathna/CNN-Image-Classifier---CIFAR-DataSet/blob/main/CNN_Image_classifier.ipynb\" target=\"_parent\"><img src=\"https://colab.research.google.com/assets/colab-badge.svg\" alt=\"Open In Colab\"/></a>"
      ]
    },
    {
      "cell_type": "code",
      "metadata": {
        "id": "Wm58D0mvqL3w"
      },
      "source": [
        "import tensorflow as tf\n",
        "from tensorflow.keras import datasets, layers, models\n",
        "import matplotlib.pyplot as plt\n",
        "import numpy as np\n"
      ],
      "execution_count": 2,
      "outputs": []
    },
    {
      "cell_type": "code",
      "metadata": {
        "id": "zq0CaQyyqffh",
        "colab": {
          "base_uri": "https://localhost:8080/"
        },
        "outputId": "ca376e33-377f-4c99-bb5e-d27111989763"
      },
      "source": [
        "(X_train, y_train), (X_test, y_test) = datasets.cifar10.load_data()"
      ],
      "execution_count": 3,
      "outputs": [
        {
          "output_type": "stream",
          "name": "stdout",
          "text": [
            "Downloading data from https://www.cs.toronto.edu/~kriz/cifar-10-python.tar.gz\n",
            "170500096/170498071 [==============================] - 3s 0us/step\n",
            "170508288/170498071 [==============================] - 3s 0us/step\n"
          ]
        }
      ]
    },
    {
      "cell_type": "code",
      "metadata": {
        "id": "Y3pAW4zZqyNt",
        "colab": {
          "base_uri": "https://localhost:8080/"
        },
        "outputId": "9f673f5b-8e8a-496b-9ace-8f59c9e8211d"
      },
      "source": [
        "X_train.shape"
      ],
      "execution_count": 4,
      "outputs": [
        {
          "output_type": "execute_result",
          "data": {
            "text/plain": [
              "(50000, 32, 32, 3)"
            ]
          },
          "metadata": {},
          "execution_count": 4
        }
      ]
    },
    {
      "cell_type": "code",
      "metadata": {
        "id": "Nao0xah8q4YT",
        "colab": {
          "base_uri": "https://localhost:8080/"
        },
        "outputId": "e591ee46-e977-490b-a427-3053be397a1a"
      },
      "source": [
        "X_test.shape"
      ],
      "execution_count": 5,
      "outputs": [
        {
          "output_type": "execute_result",
          "data": {
            "text/plain": [
              "(10000, 32, 32, 3)"
            ]
          },
          "metadata": {},
          "execution_count": 5
        }
      ]
    },
    {
      "cell_type": "code",
      "metadata": {
        "id": "n5kVBuhR23-g",
        "colab": {
          "base_uri": "https://localhost:8080/"
        },
        "outputId": "37c23be1-5cdd-440c-a675-7110a7a74431"
      },
      "source": [
        "y_train[:5]"
      ],
      "execution_count": 6,
      "outputs": [
        {
          "output_type": "execute_result",
          "data": {
            "text/plain": [
              "array([[6],\n",
              "       [9],\n",
              "       [9],\n",
              "       [4],\n",
              "       [1]], dtype=uint8)"
            ]
          },
          "metadata": {},
          "execution_count": 6
        }
      ]
    },
    {
      "cell_type": "code",
      "metadata": {
        "id": "vrr2hCZ42_Kp",
        "colab": {
          "base_uri": "https://localhost:8080/"
        },
        "outputId": "821ea60e-5bc6-4b46-aa72-981032f5d27a"
      },
      "source": [
        "y_train = y_train.reshape(-1,)\n",
        "y_train[:5]"
      ],
      "execution_count": 7,
      "outputs": [
        {
          "output_type": "execute_result",
          "data": {
            "text/plain": [
              "array([6, 9, 9, 4, 1], dtype=uint8)"
            ]
          },
          "metadata": {},
          "execution_count": 7
        }
      ]
    },
    {
      "cell_type": "code",
      "metadata": {
        "id": "zwB_NOUs3YDt"
      },
      "source": [
        "classes = [\"airplane\" , \"automobile\" ,\"bird\", \"cat\", \"deer\", \"dog\", \"frog\", \"horse\", \"ship\", \"truck\"]"
      ],
      "execution_count": 8,
      "outputs": []
    },
    {
      "cell_type": "code",
      "metadata": {
        "id": "uNIQKjP53slT",
        "colab": {
          "base_uri": "https://localhost:8080/",
          "height": 35
        },
        "outputId": "60ca4958-7fa7-442a-ea95-8b6522171bda"
      },
      "source": [
        "classes[9]"
      ],
      "execution_count": 9,
      "outputs": [
        {
          "output_type": "execute_result",
          "data": {
            "application/vnd.google.colaboratory.intrinsic+json": {
              "type": "string"
            },
            "text/plain": [
              "'truck'"
            ]
          },
          "metadata": {},
          "execution_count": 9
        }
      ]
    },
    {
      "cell_type": "code",
      "metadata": {
        "id": "jMAYPVglrCqU",
        "colab": {
          "base_uri": "https://localhost:8080/",
          "height": 283
        },
        "outputId": "b4ec4e9d-ee58-4d8a-8dc1-e3c985546bf9"
      },
      "source": [
        "plt.imshow(X_train[52])"
      ],
      "execution_count": 10,
      "outputs": [
        {
          "output_type": "execute_result",
          "data": {
            "text/plain": [
              "<matplotlib.image.AxesImage at 0x7f343a6c5e90>"
            ]
          },
          "metadata": {},
          "execution_count": 10
        },
        {
          "output_type": "display_data",
          "data": {
            "image/png": "[encoded data removed]",
            "text/plain": [
              "<Figure size 432x288 with 1 Axes>"
            ]
          },
          "metadata": {
            "needs_background": "light"
          }
        }
      ]
    },
    {
      "cell_type": "code",
      "metadata": {
        "id": "166iUYKS4cPb"
      },
      "source": [
        "X_train = X_train/255\n",
        "X_test = X_test/255 #normlize values"
      ],
      "execution_count": 11,
      "outputs": []
    },
    {
      "cell_type": "markdown",
      "metadata": {
        "id": "jMnMRkKZpIVr"
      },
      "source": [
        "#CNN"
      ]
    },
    {
      "cell_type": "code",
      "metadata": {
        "colab": {
          "base_uri": "https://localhost:8080/"
        },
        "id": "S9LJiUnJpCPa",
        "outputId": "f64458b0-8091-4def-892a-07bf795a13c3"
      },
      "source": [
        "ann = models.Sequential([\n",
        "                         layers.Flatten(input_shape = (32,32,3)),\n",
        "                         layers.Dense(3000, activation='relu'), #3000 neurones\n",
        "                         layers.Dense(1000, activation = 'relu'),\n",
        "                         layers.Dense(10, activation = 'sigmoid') #10 categories\n",
        "])\n",
        "\n",
        "ann.compile(optimizer = 'SGD',\n",
        "            loss = 'sparse_categorical_crossentropy', #sparce_categoricl cross entrophy as we are using not using a one hotencoded.\n",
        "            metrics = ['accuracy'])\n",
        "\n",
        "history = ann.fit(X_train, y_train, epochs = 100) "
      ],
      "execution_count": 12,
      "outputs": [
        {
          "output_type": "stream",
          "name": "stdout",
          "text": [
            "Epoch 1/100\n",
            "1563/1563 [==============================] - 109s 69ms/step - loss: 1.8136 - accuracy: 0.3552\n",
            "Epoch 2/100\n",
            "1563/1563 [==============================] - 109s 70ms/step - loss: 1.6262 - accuracy: 0.4253\n",
            "Epoch 3/100\n",
            "1563/1563 [==============================] - 108s 69ms/step - loss: 1.5430 - accuracy: 0.4572\n",
            "Epoch 4/100\n",
            "1563/1563 [==============================] - 109s 70ms/step - loss: 1.4816 - accuracy: 0.4775\n",
            "Epoch 5/100\n",
            "1563/1563 [==============================] - 109s 70ms/step - loss: 1.4344 - accuracy: 0.4963\n",
            "Epoch 6/100\n",
            "1563/1563 [==============================] - 108s 69ms/step - loss: 1.3906 - accuracy: 0.5097\n",
            "Epoch 7/100\n",
            "1563/1563 [==============================] - 107s 69ms/step - loss: 1.3511 - accuracy: 0.5264\n",
            "Epoch 8/100\n",
            "1563/1563 [==============================] - 107s 69ms/step - loss: 1.3162 - accuracy: 0.5376\n",
            "Epoch 9/100\n",
            "1563/1563 [==============================] - 106s 68ms/step - loss: 1.2848 - accuracy: 0.5507\n",
            "Epoch 10/100\n",
            "1563/1563 [==============================] - 108s 69ms/step - loss: 1.2549 - accuracy: 0.5592\n",
            "Epoch 11/100\n",
            "1563/1563 [==============================] - 108s 69ms/step - loss: 1.2215 - accuracy: 0.5736\n",
            "Epoch 12/100\n",
            "1563/1563 [==============================] - 108s 69ms/step - loss: 1.1947 - accuracy: 0.5832\n",
            "Epoch 13/100\n",
            "1563/1563 [==============================] - 109s 70ms/step - loss: 1.1670 - accuracy: 0.5945\n",
            "Epoch 14/100\n",
            "1563/1563 [==============================] - 109s 69ms/step - loss: 1.1406 - accuracy: 0.6032\n",
            "Epoch 15/100\n",
            "1563/1563 [==============================] - 110s 70ms/step - loss: 1.1138 - accuracy: 0.6114\n",
            "Epoch 16/100\n",
            "1563/1563 [==============================] - 108s 69ms/step - loss: 1.0872 - accuracy: 0.6207\n",
            "Epoch 17/100\n",
            "1563/1563 [==============================] - 107s 68ms/step - loss: 1.0602 - accuracy: 0.6321\n",
            "Epoch 18/100\n",
            "1563/1563 [==============================] - 105s 67ms/step - loss: 1.0352 - accuracy: 0.6395\n",
            "Epoch 19/100\n",
            "1563/1563 [==============================] - 104s 67ms/step - loss: 1.0116 - accuracy: 0.6487\n",
            "Epoch 20/100\n",
            "1563/1563 [==============================] - 105s 67ms/step - loss: 0.9828 - accuracy: 0.6595\n",
            "Epoch 21/100\n",
            "1563/1563 [==============================] - 105s 67ms/step - loss: 0.9589 - accuracy: 0.6676\n",
            "Epoch 22/100\n",
            "1563/1563 [==============================] - 104s 67ms/step - loss: 0.9340 - accuracy: 0.6770\n",
            "Epoch 23/100\n",
            "1563/1563 [==============================] - 104s 66ms/step - loss: 0.9067 - accuracy: 0.6872\n",
            "Epoch 24/100\n",
            "1563/1563 [==============================] - 105s 67ms/step - loss: 0.8838 - accuracy: 0.6939\n",
            "Epoch 25/100\n",
            "1563/1563 [==============================] - 107s 68ms/step - loss: 0.8575 - accuracy: 0.7060\n",
            "Epoch 26/100\n",
            "1563/1563 [==============================] - 106s 68ms/step - loss: 0.8295 - accuracy: 0.7137\n",
            "Epoch 27/100\n",
            "1563/1563 [==============================] - 104s 66ms/step - loss: 0.8065 - accuracy: 0.7229\n",
            "Epoch 28/100\n",
            "1563/1563 [==============================] - 104s 66ms/step - loss: 0.7800 - accuracy: 0.7316\n",
            "Epoch 29/100\n",
            "1563/1563 [==============================] - 104s 67ms/step - loss: 0.7547 - accuracy: 0.7421\n",
            "Epoch 30/100\n",
            "1563/1563 [==============================] - 104s 67ms/step - loss: 0.7313 - accuracy: 0.7518\n",
            "Epoch 31/100\n",
            "1563/1563 [==============================] - 105s 67ms/step - loss: 0.7067 - accuracy: 0.7601\n",
            "Epoch 32/100\n",
            "1563/1563 [==============================] - 105s 67ms/step - loss: 0.6837 - accuracy: 0.7678\n",
            "Epoch 33/100\n",
            "1563/1563 [==============================] - 104s 66ms/step - loss: 0.6560 - accuracy: 0.7775\n",
            "Epoch 34/100\n",
            "1563/1563 [==============================] - 103s 66ms/step - loss: 0.6337 - accuracy: 0.7882\n",
            "Epoch 35/100\n",
            "1563/1563 [==============================] - 104s 66ms/step - loss: 0.6091 - accuracy: 0.7953\n",
            "Epoch 36/100\n",
            "1563/1563 [==============================] - 107s 69ms/step - loss: 0.5885 - accuracy: 0.8035\n",
            "Epoch 37/100\n",
            "1563/1563 [==============================] - 107s 68ms/step - loss: 0.5635 - accuracy: 0.8103\n",
            "Epoch 38/100\n",
            "1563/1563 [==============================] - 109s 69ms/step - loss: 0.5412 - accuracy: 0.8204\n",
            "Epoch 39/100\n",
            "1563/1563 [==============================] - 106s 68ms/step - loss: 0.5173 - accuracy: 0.8287\n",
            "Epoch 40/100\n",
            "1563/1563 [==============================] - 105s 67ms/step - loss: 0.4932 - accuracy: 0.8384\n",
            "Epoch 41/100\n",
            "1563/1563 [==============================] - 107s 68ms/step - loss: 0.4722 - accuracy: 0.8458\n",
            "Epoch 42/100\n",
            "1563/1563 [==============================] - 106s 68ms/step - loss: 0.4512 - accuracy: 0.8541\n",
            "Epoch 43/100\n",
            "1563/1563 [==============================] - 107s 69ms/step - loss: 0.4325 - accuracy: 0.8603\n",
            "Epoch 44/100\n",
            "1563/1563 [==============================] - 107s 68ms/step - loss: 0.4062 - accuracy: 0.8712\n",
            "Epoch 45/100\n",
            "1563/1563 [==============================] - 106s 68ms/step - loss: 0.3888 - accuracy: 0.8760\n",
            "Epoch 46/100\n",
            "1563/1563 [==============================] - 107s 68ms/step - loss: 0.3712 - accuracy: 0.8835\n",
            "Epoch 47/100\n",
            "1563/1563 [==============================] - 107s 68ms/step - loss: 0.3505 - accuracy: 0.8922\n",
            "Epoch 48/100\n",
            "1563/1563 [==============================] - 106s 68ms/step - loss: 0.3307 - accuracy: 0.8983\n",
            "Epoch 49/100\n",
            "1563/1563 [==============================] - 107s 68ms/step - loss: 0.3142 - accuracy: 0.9036\n",
            "Epoch 50/100\n",
            "1563/1563 [==============================] - 107s 69ms/step - loss: 0.2951 - accuracy: 0.9111\n",
            "Epoch 51/100\n",
            "1563/1563 [==============================] - 108s 69ms/step - loss: 0.2795 - accuracy: 0.9176\n",
            "Epoch 52/100\n",
            "1563/1563 [==============================] - 107s 69ms/step - loss: 0.2639 - accuracy: 0.9218\n",
            "Epoch 53/100\n",
            "1563/1563 [==============================] - 106s 68ms/step - loss: 0.2482 - accuracy: 0.9278\n",
            "Epoch 54/100\n",
            "1563/1563 [==============================] - 106s 68ms/step - loss: 0.2391 - accuracy: 0.9311\n",
            "Epoch 55/100\n",
            "1563/1563 [==============================] - 106s 68ms/step - loss: 0.2210 - accuracy: 0.9367\n",
            "Epoch 56/100\n",
            "1563/1563 [==============================] - 109s 70ms/step - loss: 0.2073 - accuracy: 0.9425\n",
            "Epoch 57/100\n",
            "1563/1563 [==============================] - 109s 70ms/step - loss: 0.1947 - accuracy: 0.9469\n",
            "Epoch 58/100\n",
            "1563/1563 [==============================] - 110s 71ms/step - loss: 0.1842 - accuracy: 0.9497\n",
            "Epoch 59/100\n",
            "1563/1563 [==============================] - 109s 70ms/step - loss: 0.1707 - accuracy: 0.9549\n",
            "Epoch 60/100\n",
            "1563/1563 [==============================] - 110s 70ms/step - loss: 0.1586 - accuracy: 0.9595\n",
            "Epoch 61/100\n",
            "1563/1563 [==============================] - 110s 71ms/step - loss: 0.1488 - accuracy: 0.9622\n",
            "Epoch 62/100\n",
            "1563/1563 [==============================] - 109s 70ms/step - loss: 0.1377 - accuracy: 0.9662\n",
            "Epoch 63/100\n",
            "1563/1563 [==============================] - 110s 70ms/step - loss: 0.1308 - accuracy: 0.9681\n",
            "Epoch 64/100\n",
            "1563/1563 [==============================] - 109s 70ms/step - loss: 0.1213 - accuracy: 0.9714\n",
            "Epoch 65/100\n",
            "1563/1563 [==============================] - 108s 69ms/step - loss: 0.1131 - accuracy: 0.9753\n",
            "Epoch 66/100\n",
            "1563/1563 [==============================] - 107s 68ms/step - loss: 0.1032 - accuracy: 0.9773\n",
            "Epoch 67/100\n",
            "1563/1563 [==============================] - 107s 69ms/step - loss: 0.0950 - accuracy: 0.9796\n",
            "Epoch 68/100\n",
            "1563/1563 [==============================] - 106s 68ms/step - loss: 0.0903 - accuracy: 0.9808\n",
            "Epoch 69/100\n",
            "1563/1563 [==============================] - 108s 69ms/step - loss: 0.0828 - accuracy: 0.9835\n",
            "Epoch 70/100\n",
            "1563/1563 [==============================] - 108s 69ms/step - loss: 0.0760 - accuracy: 0.9860\n",
            "Epoch 71/100\n",
            "1563/1563 [==============================] - 107s 69ms/step - loss: 0.0695 - accuracy: 0.9873\n",
            "Epoch 72/100\n",
            "1563/1563 [==============================] - 109s 70ms/step - loss: 0.0646 - accuracy: 0.9890\n",
            "Epoch 73/100\n",
            "1563/1563 [==============================] - 109s 70ms/step - loss: 0.0572 - accuracy: 0.9910\n",
            "Epoch 74/100\n",
            "1563/1563 [==============================] - 110s 70ms/step - loss: 0.0571 - accuracy: 0.9904\n",
            "Epoch 75/100\n",
            "1563/1563 [==============================] - 110s 70ms/step - loss: 0.0505 - accuracy: 0.9922\n",
            "Epoch 76/100\n",
            "1563/1563 [==============================] - 109s 70ms/step - loss: 0.0504 - accuracy: 0.9918\n",
            "Epoch 77/100\n",
            "1563/1563 [==============================] - 109s 70ms/step - loss: 0.0448 - accuracy: 0.9931\n",
            "Epoch 78/100\n",
            "1563/1563 [==============================] - 109s 70ms/step - loss: 0.0401 - accuracy: 0.9946\n",
            "Epoch 79/100\n",
            "1563/1563 [==============================] - 109s 70ms/step - loss: 0.0377 - accuracy: 0.9950\n",
            "Epoch 80/100\n",
            "1563/1563 [==============================] - 110s 71ms/step - loss: 0.0355 - accuracy: 0.9956\n",
            "Epoch 81/100\n",
            "1563/1563 [==============================] - 109s 70ms/step - loss: 0.0328 - accuracy: 0.9962\n",
            "Epoch 82/100\n",
            "1563/1563 [==============================] - 108s 69ms/step - loss: 0.0318 - accuracy: 0.9962\n",
            "Epoch 83/100\n",
            "1563/1563 [==============================] - 107s 69ms/step - loss: 0.0291 - accuracy: 0.9968\n",
            "Epoch 84/100\n",
            "1563/1563 [==============================] - 109s 69ms/step - loss: 0.0269 - accuracy: 0.9970\n",
            "Epoch 85/100\n",
            "1563/1563 [==============================] - 109s 70ms/step - loss: 0.0341 - accuracy: 0.9947\n",
            "Epoch 86/100\n",
            "1563/1563 [==============================] - 109s 70ms/step - loss: 0.0358 - accuracy: 0.9952\n",
            "Epoch 87/100\n",
            "1563/1563 [==============================] - 109s 70ms/step - loss: 0.0228 - accuracy: 0.9977\n",
            "Epoch 88/100\n",
            "1563/1563 [==============================] - 108s 69ms/step - loss: 0.0204 - accuracy: 0.9984\n",
            "Epoch 89/100\n",
            "1563/1563 [==============================] - 107s 69ms/step - loss: 0.0196 - accuracy: 0.9985\n",
            "Epoch 90/100\n",
            "1563/1563 [==============================] - 107s 68ms/step - loss: 0.0180 - accuracy: 0.9987\n",
            "Epoch 91/100\n",
            "1563/1563 [==============================] - 107s 69ms/step - loss: 0.0170 - accuracy: 0.9989\n",
            "Epoch 92/100\n",
            "1563/1563 [==============================] - 107s 68ms/step - loss: 0.0160 - accuracy: 0.9989\n",
            "Epoch 93/100\n",
            "1563/1563 [==============================] - 107s 68ms/step - loss: 0.0149 - accuracy: 0.9992\n",
            "Epoch 94/100\n",
            "1563/1563 [==============================] - 106s 68ms/step - loss: 0.0142 - accuracy: 0.9991\n",
            "Epoch 95/100\n",
            "1563/1563 [==============================] - 106s 68ms/step - loss: 0.0137 - accuracy: 0.9992\n",
            "Epoch 96/100\n",
            "1563/1563 [==============================] - 106s 68ms/step - loss: 0.0130 - accuracy: 0.9994\n",
            "Epoch 97/100\n",
            "1563/1563 [==============================] - 107s 68ms/step - loss: 0.0124 - accuracy: 0.9995\n",
            "Epoch 98/100\n",
            "1563/1563 [==============================] - 107s 68ms/step - loss: 0.0116 - accuracy: 0.9995\n",
            "Epoch 99/100\n",
            "1563/1563 [==============================] - 107s 69ms/step - loss: 0.0114 - accuracy: 0.9993\n",
            "Epoch 100/100\n",
            "1563/1563 [==============================] - 107s 69ms/step - loss: 0.0107 - accuracy: 0.9996\n"
          ]
        }
      ]
    },
    {
      "cell_type": "code",
      "metadata": {
        "id": "GmcL6VbX1zcf",
        "colab": {
          "base_uri": "https://localhost:8080/"
        },
        "outputId": "8d452c44-e3dc-4acd-8c4e-8b2c8878c939"
      },
      "source": [
        "print(history.history.keys())\n"
      ],
      "execution_count": 13,
      "outputs": [
        {
          "output_type": "stream",
          "name": "stdout",
          "text": [
            "dict_keys(['loss', 'accuracy'])\n"
          ]
        }
      ]
    },
    {
      "cell_type": "code",
      "metadata": {
        "id": "4LZTmJmT1_U1",
        "colab": {
          "base_uri": "https://localhost:8080/",
          "height": 295
        },
        "outputId": "3d866866-1b29-428e-ce8f-f10b258b3678"
      },
      "source": [
        "plt.plot(history.history['accuracy'])\n",
        "plt.plot(history.history['loss'])\n",
        "plt.title('model accuracy')\n",
        "plt.ylabel('accuracy')\n",
        "plt.xlabel('epoch')\n",
        "plt.legend(['accuracy', 'loss'], loc='upper left')\n",
        "plt.show()\n"
      ],
      "execution_count": 14,
      "outputs": [
        {
          "output_type": "display_data",
          "data": {
            "image/png": "[encoded data removed]",
            "text/plain": [
              "<Figure size 432x288 with 1 Axes>"
            ]
          },
          "metadata": {
            "needs_background": "light"
          }
        }
      ]
    },
    {
      "cell_type": "code",
      "metadata": {
        "id": "fEYSgBZE1IM9",
        "colab": {
          "base_uri": "https://localhost:8080/"
        },
        "outputId": "69ee6188-af44-48d4-8ec7-53be0e00f0ba"
      },
      "source": [
        "from sklearn.metrics import confusion_matrix, classification_report\n",
        "y_pred = ann.predict(X_test)\n",
        "y_pred_classes = [np.argmax(element) for element in y_pred]\n",
        "print(\"Classification Report: \\n\", classification_report(y_test, y_pred_classes))"
      ],
      "execution_count": 15,
      "outputs": [
        {
          "output_type": "stream",
          "name": "stdout",
          "text": [
            "Classification Report: \n",
            "               precision    recall  f1-score   support\n",
            "\n",
            "           0       0.64      0.68      0.66      1000\n",
            "           1       0.67      0.69      0.68      1000\n",
            "           2       0.49      0.46      0.47      1000\n",
            "           3       0.41      0.41      0.41      1000\n",
            "           4       0.52      0.52      0.52      1000\n",
            "           5       0.46      0.52      0.49      1000\n",
            "           6       0.69      0.62      0.65      1000\n",
            "           7       0.62      0.66      0.64      1000\n",
            "           8       0.69      0.68      0.68      1000\n",
            "           9       0.63      0.58      0.61      1000\n",
            "\n",
            "    accuracy                           0.58     10000\n",
            "   macro avg       0.58      0.58      0.58     10000\n",
            "weighted avg       0.58      0.58      0.58     10000\n",
            "\n"
          ]
        }
      ]
    },
    {
      "cell_type": "code",
      "metadata": {
        "id": "V0A5_Sk4rLO4"
      },
      "source": [
        "cnn = models.Sequential([\n",
        "                         layers.Conv2D(filters = 32, kernel_size = (3,3),  activation = 'relu', input_shape = (32,32,3)),\n",
        "                         layers.MaxPooling2D((2,2)),\n",
        "\n",
        "                         layers.Conv2D(filters = 64, kernel_size = (3,3),  activation = 'relu', input_shape = (32,32,3)),\n",
        "                         layers.MaxPooling2D((2,2)),\n",
        "\n",
        "                         layers.Flatten(),\n",
        "                         layers.Dense(64, activation='relu'), #3000 neurones\n",
        "                         layers.Dense(10, activation = 'softmax') #10 categories\n",
        "])"
      ],
      "execution_count": 16,
      "outputs": []
    },
    {
      "cell_type": "code",
      "metadata": {
        "id": "bm-6-uGUtAMf"
      },
      "source": [
        "cnn.compile(optimizer = 'adam', \n",
        "            loss='sparse_categorical_crossentropy',\n",
        "            metrics = ['accuracy'])"
      ],
      "execution_count": 17,
      "outputs": []
    },
    {
      "cell_type": "code",
      "metadata": {
        "id": "KhtWVmLft41-",
        "colab": {
          "base_uri": "https://localhost:8080/"
        },
        "outputId": "925fca63-43b5-47e1-c509-d60cee205961"
      },
      "source": [
        "cnn.fit(X_train, y_train, epochs=50)"
      ],
      "execution_count": 18,
      "outputs": [
        {
          "output_type": "stream",
          "name": "stdout",
          "text": [
            "Epoch 1/50\n",
            "1563/1563 [==============================] - 65s 41ms/step - loss: 1.4533 - accuracy: 0.4783\n",
            "Epoch 2/50\n",
            "1563/1563 [==============================] - 64s 41ms/step - loss: 1.0947 - accuracy: 0.6177\n",
            "Epoch 3/50\n",
            "1563/1563 [==============================] - 64s 41ms/step - loss: 0.9623 - accuracy: 0.6649\n",
            "Epoch 4/50\n",
            "1563/1563 [==============================] - 64s 41ms/step - loss: 0.8750 - accuracy: 0.6958\n",
            "Epoch 5/50\n",
            "1563/1563 [==============================] - 64s 41ms/step - loss: 0.8017 - accuracy: 0.7217\n",
            "Epoch 6/50\n",
            "1563/1563 [==============================] - 64s 41ms/step - loss: 0.7434 - accuracy: 0.7420\n",
            "Epoch 7/50\n",
            "1563/1563 [==============================] - 64s 41ms/step - loss: 0.6911 - accuracy: 0.7584\n",
            "Epoch 8/50\n",
            "1563/1563 [==============================] - 64s 41ms/step - loss: 0.6541 - accuracy: 0.7715\n",
            "Epoch 9/50\n",
            "1563/1563 [==============================] - 64s 41ms/step - loss: 0.6115 - accuracy: 0.7864\n",
            "Epoch 10/50\n",
            "1563/1563 [==============================] - 64s 41ms/step - loss: 0.5727 - accuracy: 0.7982\n",
            "Epoch 11/50\n",
            "1563/1563 [==============================] - 64s 41ms/step - loss: 0.5423 - accuracy: 0.8089\n",
            "Epoch 12/50\n",
            "1563/1563 [==============================] - 64s 41ms/step - loss: 0.5090 - accuracy: 0.8198\n",
            "Epoch 13/50\n",
            "1563/1563 [==============================] - 64s 41ms/step - loss: 0.4747 - accuracy: 0.8318\n",
            "Epoch 14/50\n",
            "1563/1563 [==============================] - 64s 41ms/step - loss: 0.4504 - accuracy: 0.8412\n",
            "Epoch 15/50\n",
            "1563/1563 [==============================] - 64s 41ms/step - loss: 0.4171 - accuracy: 0.8514\n",
            "Epoch 16/50\n",
            "1563/1563 [==============================] - 63s 41ms/step - loss: 0.3985 - accuracy: 0.8584\n",
            "Epoch 17/50\n",
            "1563/1563 [==============================] - 64s 41ms/step - loss: 0.3712 - accuracy: 0.8676\n",
            "Epoch 18/50\n",
            "1563/1563 [==============================] - 64s 41ms/step - loss: 0.3511 - accuracy: 0.8750\n",
            "Epoch 19/50\n",
            "1563/1563 [==============================] - 64s 41ms/step - loss: 0.3325 - accuracy: 0.8817\n",
            "Epoch 20/50\n",
            "1563/1563 [==============================] - 64s 41ms/step - loss: 0.3059 - accuracy: 0.8902\n",
            "Epoch 21/50\n",
            "1563/1563 [==============================] - 64s 41ms/step - loss: 0.2905 - accuracy: 0.8945\n",
            "Epoch 22/50\n",
            "1563/1563 [==============================] - 66s 42ms/step - loss: 0.2724 - accuracy: 0.9013\n",
            "Epoch 23/50\n",
            "1563/1563 [==============================] - 64s 41ms/step - loss: 0.2616 - accuracy: 0.9053\n",
            "Epoch 24/50\n",
            "1563/1563 [==============================] - 66s 42ms/step - loss: 0.2434 - accuracy: 0.9116\n",
            "Epoch 25/50\n",
            "1563/1563 [==============================] - 64s 41ms/step - loss: 0.2302 - accuracy: 0.9159\n",
            "Epoch 26/50\n",
            "1563/1563 [==============================] - 66s 42ms/step - loss: 0.2129 - accuracy: 0.9229\n",
            "Epoch 27/50\n",
            "1563/1563 [==============================] - 66s 42ms/step - loss: 0.2136 - accuracy: 0.9224\n",
            "Epoch 28/50\n",
            "1563/1563 [==============================] - 63s 40ms/step - loss: 0.1955 - accuracy: 0.9301\n",
            "Epoch 29/50\n",
            "1563/1563 [==============================] - 63s 41ms/step - loss: 0.1827 - accuracy: 0.9340\n",
            "Epoch 30/50\n",
            "1563/1563 [==============================] - 64s 41ms/step - loss: 0.1811 - accuracy: 0.9352\n",
            "Epoch 31/50\n",
            "1563/1563 [==============================] - 64s 41ms/step - loss: 0.1672 - accuracy: 0.9389\n",
            "Epoch 32/50\n",
            "1563/1563 [==============================] - 65s 41ms/step - loss: 0.1632 - accuracy: 0.9410\n",
            "Epoch 33/50\n",
            "1563/1563 [==============================] - 64s 41ms/step - loss: 0.1569 - accuracy: 0.9433\n",
            "Epoch 34/50\n",
            "1563/1563 [==============================] - 64s 41ms/step - loss: 0.1483 - accuracy: 0.9460\n",
            "Epoch 35/50\n",
            "1563/1563 [==============================] - 64s 41ms/step - loss: 0.1406 - accuracy: 0.9488\n",
            "Epoch 36/50\n",
            "1563/1563 [==============================] - 63s 41ms/step - loss: 0.1382 - accuracy: 0.9499\n",
            "Epoch 37/50\n",
            "1563/1563 [==============================] - 63s 41ms/step - loss: 0.1311 - accuracy: 0.9520\n",
            "Epoch 38/50\n",
            "1563/1563 [==============================] - 64s 41ms/step - loss: 0.1319 - accuracy: 0.9528\n",
            "Epoch 39/50\n",
            "1563/1563 [==============================] - 64s 41ms/step - loss: 0.1238 - accuracy: 0.9553\n",
            "Epoch 40/50\n",
            "1563/1563 [==============================] - 64s 41ms/step - loss: 0.1274 - accuracy: 0.9541\n",
            "Epoch 41/50\n",
            "1563/1563 [==============================] - 63s 40ms/step - loss: 0.1183 - accuracy: 0.9568\n",
            "Epoch 42/50\n",
            "1563/1563 [==============================] - 63s 40ms/step - loss: 0.1135 - accuracy: 0.9596\n",
            "Epoch 43/50\n",
            "1563/1563 [==============================] - 64s 41ms/step - loss: 0.1102 - accuracy: 0.9612\n",
            "Epoch 44/50\n",
            "1563/1563 [==============================] - 64s 41ms/step - loss: 0.1150 - accuracy: 0.9604\n",
            "Epoch 45/50\n",
            "1563/1563 [==============================] - 63s 40ms/step - loss: 0.1065 - accuracy: 0.9628\n",
            "Epoch 46/50\n",
            "1563/1563 [==============================] - 63s 40ms/step - loss: 0.1060 - accuracy: 0.9625\n",
            "Epoch 47/50\n",
            "1563/1563 [==============================] - 64s 41ms/step - loss: 0.1062 - accuracy: 0.9628\n",
            "Epoch 48/50\n",
            "1563/1563 [==============================] - 64s 41ms/step - loss: 0.1004 - accuracy: 0.9650\n",
            "Epoch 49/50\n",
            "1563/1563 [==============================] - 63s 41ms/step - loss: 0.1051 - accuracy: 0.9632\n",
            "Epoch 50/50\n",
            "1563/1563 [==============================] - 63s 41ms/step - loss: 0.1009 - accuracy: 0.9650\n"
          ]
        },
        {
          "output_type": "execute_result",
          "data": {
            "text/plain": [
              "<keras.callbacks.History at 0x7f3433e0f490>"
            ]
          },
          "metadata": {},
          "execution_count": 18
        }
      ]
    },
    {
      "cell_type": "code",
      "metadata": {
        "id": "XZPiA6VIuLrB",
        "colab": {
          "base_uri": "https://localhost:8080/"
        },
        "outputId": "6d02320a-ab8f-4041-9851-72f5d2817278"
      },
      "source": [
        "cnn.evaluate(X_test, y_test)"
      ],
      "execution_count": 19,
      "outputs": [
        {
          "output_type": "stream",
          "name": "stdout",
          "text": [
            "313/313 [==============================] - 4s 13ms/step - loss: 3.1019 - accuracy: 0.6664\n"
          ]
        },
        {
          "output_type": "execute_result",
          "data": {
            "text/plain": [
              "[3.1019234657287598, 0.6664000153541565]"
            ]
          },
          "metadata": {},
          "execution_count": 19
        }
      ]
    },
    {
      "cell_type": "code",
      "metadata": {
        "id": "0a34nkGqvPz1",
        "colab": {
          "base_uri": "https://localhost:8080/"
        },
        "outputId": "f3095f9a-82a1-4bee-9b4b-46f53bb9218d"
      },
      "source": [
        "y_test[:5]"
      ],
      "execution_count": 20,
      "outputs": [
        {
          "output_type": "execute_result",
          "data": {
            "text/plain": [
              "array([[3],\n",
              "       [8],\n",
              "       [8],\n",
              "       [0],\n",
              "       [6]], dtype=uint8)"
            ]
          },
          "metadata": {},
          "execution_count": 20
        }
      ]
    },
    {
      "cell_type": "code",
      "metadata": {
        "id": "G0xpaWlluenV",
        "colab": {
          "base_uri": "https://localhost:8080/"
        },
        "outputId": "509a3c7e-99cc-41d4-ee63-c9620ca56a16"
      },
      "source": [
        "y_test = y_test.reshape(-1,)\n",
        "y_test[:5]\n"
      ],
      "execution_count": 21,
      "outputs": [
        {
          "output_type": "execute_result",
          "data": {
            "text/plain": [
              "array([3, 8, 8, 0, 6], dtype=uint8)"
            ]
          },
          "metadata": {},
          "execution_count": 21
        }
      ]
    },
    {
      "cell_type": "code",
      "metadata": {
        "id": "8VZXk-HKvzCU"
      },
      "source": [
        "def plot_sample(X, y, index):\n",
        "  plt.figure(figsize = (15,2))\n",
        "  plt.imshow(X[index])\n",
        "  plt.xlabel(classes[y[index]])"
      ],
      "execution_count": 22,
      "outputs": []
    },
    {
      "cell_type": "code",
      "metadata": {
        "id": "BrcyYvXxvaDL",
        "colab": {
          "base_uri": "https://localhost:8080/",
          "height": 173
        },
        "outputId": "bce8198c-2af8-4926-b141-82b69c969755"
      },
      "source": [
        "plot_sample(X_test, y_test, 1)"
      ],
      "execution_count": 23,
      "outputs": [
        {
          "output_type": "display_data",
          "data": {
            "image/png": "[encoded data removed]",
            "text/plain": [
              "<Figure size 1080x144 with 1 Axes>"
            ]
          },
          "metadata": {
            "needs_background": "light"
          }
        }
      ]
    },
    {
      "cell_type": "code",
      "metadata": {
        "id": "qhbNeiYfwZq9",
        "colab": {
          "base_uri": "https://localhost:8080/"
        },
        "outputId": "2dae3257-e328-4257-ede8-93efb261b53c"
      },
      "source": [
        "y_pred = cnn.predict(X_test)\n",
        "y_pred[:5]"
      ],
      "execution_count": 24,
      "outputs": [
        {
          "output_type": "execute_result",
          "data": {
            "text/plain": [
              "array([[6.72778222e-11, 2.81168674e-14, 1.17173156e-04, 6.82454228e-01,\n",
              "        6.13978650e-15, 4.95327002e-10, 4.53273188e-08, 5.00690749e-22,\n",
              "        3.17428499e-01, 1.76136944e-21],\n",
              "       [2.46553884e-12, 4.72719257e-04, 2.90291012e-12, 2.71531425e-18,\n",
              "        3.86821667e-25, 7.89354548e-20, 7.99079306e-36, 5.38846170e-33,\n",
              "        9.99527335e-01, 9.87281220e-13],\n",
              "       [2.96916021e-03, 1.68317661e-01, 3.91045205e-08, 7.82142919e-08,\n",
              "        1.93602379e-09, 4.68110439e-10, 6.92646740e-16, 5.25043564e-09,\n",
              "        6.40071055e-04, 8.28073025e-01],\n",
              "       [9.99967575e-01, 1.24110444e-11, 5.27052069e-10, 2.57108811e-17,\n",
              "        1.12486484e-14, 1.39070263e-15, 2.28414579e-27, 4.83142651e-19,\n",
              "        3.24648427e-05, 8.38895522e-13],\n",
              "       [2.46864590e-20, 1.17256535e-19, 1.77005077e-05, 9.86575112e-02,\n",
              "        8.98219645e-01, 2.67876999e-07, 3.10486555e-03, 1.17351974e-32,\n",
              "        1.29053802e-23, 1.99615545e-25]], dtype=float32)"
            ]
          },
          "metadata": {},
          "execution_count": 24
        }
      ]
    },
    {
      "cell_type": "code",
      "metadata": {
        "id": "mkZizPAwyzIF",
        "colab": {
          "base_uri": "https://localhost:8080/"
        },
        "outputId": "b507e947-52a7-4703-f6be-6f1deb90c7ff"
      },
      "source": [
        "y_classes = [np.argmax(element) for element in y_pred]\n",
        "y_classes[:5]"
      ],
      "execution_count": 25,
      "outputs": [
        {
          "output_type": "execute_result",
          "data": {
            "text/plain": [
              "[3, 8, 9, 0, 4]"
            ]
          },
          "metadata": {},
          "execution_count": 25
        }
      ]
    },
    {
      "cell_type": "code",
      "metadata": {
        "id": "D7bhN0La0KiZ",
        "colab": {
          "base_uri": "https://localhost:8080/"
        },
        "outputId": "a9cff5c8-d509-4de1-8351-e5ebc438a976"
      },
      "source": [
        "y_test[:5]"
      ],
      "execution_count": 26,
      "outputs": [
        {
          "output_type": "execute_result",
          "data": {
            "text/plain": [
              "array([3, 8, 8, 0, 6], dtype=uint8)"
            ]
          },
          "metadata": {},
          "execution_count": 26
        }
      ]
    },
    {
      "cell_type": "code",
      "metadata": {
        "id": "w1NQyynA0hIj",
        "colab": {
          "base_uri": "https://localhost:8080/",
          "height": 173
        },
        "outputId": "580e6a69-83f9-42da-c3ad-1f54f873468f"
      },
      "source": [
        "plot_sample(X_test, y_test,3)"
      ],
      "execution_count": 27,
      "outputs": [
        {
          "output_type": "display_data",
          "data": {
            "image/png": "[encoded data removed]",
            "text/plain": [
              "<Figure size 1080x144 with 1 Axes>"
            ]
          },
          "metadata": {
            "needs_background": "light"
          }
        }
      ]
    },
    {
      "cell_type": "code",
      "metadata": {
        "id": "XHbzC2_q0qtV",
        "colab": {
          "base_uri": "https://localhost:8080/",
          "height": 35
        },
        "outputId": "c122e20f-711a-4625-8e36-a30e9da167a5"
      },
      "source": [
        "classes[y_classes[3]]"
      ],
      "execution_count": 28,
      "outputs": [
        {
          "output_type": "execute_result",
          "data": {
            "application/vnd.google.colaboratory.intrinsic+json": {
              "type": "string"
            },
            "text/plain": [
              "'airplane'"
            ]
          },
          "metadata": {},
          "execution_count": 28
        }
      ]
    },
    {
      "cell_type": "code",
      "metadata": {
        "id": "ndmLeFk800Qg",
        "colab": {
          "base_uri": "https://localhost:8080/"
        },
        "outputId": "63f87088-8312-408b-def7-94b484a31a28"
      },
      "source": [
        "print(\"Classification Report: \\n\", classification_report(y_test, y_classes))"
      ],
      "execution_count": 29,
      "outputs": [
        {
          "output_type": "stream",
          "name": "stdout",
          "text": [
            "Classification Report: \n",
            "               precision    recall  f1-score   support\n",
            "\n",
            "           0       0.66      0.78      0.72      1000\n",
            "           1       0.77      0.81      0.79      1000\n",
            "           2       0.59      0.49      0.54      1000\n",
            "           3       0.47      0.45      0.46      1000\n",
            "           4       0.61      0.62      0.61      1000\n",
            "           5       0.52      0.58      0.55      1000\n",
            "           6       0.77      0.72      0.75      1000\n",
            "           7       0.71      0.73      0.72      1000\n",
            "           8       0.77      0.78      0.77      1000\n",
            "           9       0.81      0.70      0.75      1000\n",
            "\n",
            "    accuracy                           0.67     10000\n",
            "   macro avg       0.67      0.67      0.67     10000\n",
            "weighted avg       0.67      0.67      0.67     10000\n",
            "\n"
          ]
        }
      ]
    }
  ]
}